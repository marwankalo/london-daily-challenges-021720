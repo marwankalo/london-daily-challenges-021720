{
 "cells": [
  {
   "cell_type": "markdown",
   "metadata": {},
   "source": [
    "# Probability \n",
    "\n",
    "A standard deck of playing cards consists of 52 cards in each of the four suits of spades, hearts, diamonds, and clubs. Each suit contains 13 cards: Ace, 2, 3, 4, 5, 6, 7, 8, 9, 10, Jack, Queen, and King.\n",
    "\n",
    "You have a standard deck of 52 cards and are asked the following questions:\n",
    "\n",
    "Question 1: What is the probability of drawing a King or a Queen?\n",
    "\n",
    "Question 2: What is the probability of drawing an Ace followed by a club?\n",
    "\n",
    "Question 3: What is the probability of drawing a red card, then a black card, then red card?\n",
    "\n",
    "Question 4: How many possible 5-card combinations can be formed with this deck of 52 cards?\n",
    "\n",
    "Show all your work and thinking in Python!"
   ]
  },
  {
   "cell_type": "code",
   "execution_count": 2,
   "metadata": {},
   "outputs": [
    {
     "data": {
      "text/plain": [
       "0.15384615384615385"
      ]
     },
     "execution_count": 2,
     "metadata": {},
     "output_type": "execute_result"
    }
   ],
   "source": [
    "total_cards = 52\n",
    "king = 4\n",
    "queen = 4\n",
    "king_queen = king + queen\n",
    "\n",
    "Question_1 = king_queen/total_cards\n",
    "Question_1"
   ]
  },
  {
   "cell_type": "code",
   "execution_count": 12,
   "metadata": {},
   "outputs": [
    {
     "data": {
      "text/plain": [
       "0.01894796380090498"
      ]
     },
     "execution_count": 12,
     "metadata": {},
     "output_type": "execute_result"
    }
   ],
   "source": [
    "# If ace pulled is club:\n",
    "ace_prob = 1/52\n",
    "# Now there is one less club and total_cards is down to 51:\n",
    "club_prob = 12/51\n",
    "probability_A = ace_prob*club_prob\n",
    "\n",
    "# If non club ace is pulled:\n",
    "ace_prob = 3/52\n",
    "# Now one less card, total is 51:\n",
    "club_prob = 13/52\n",
    "probability_B = ace_prob*club_prob\n",
    "\n",
    "Question_2 = probability_A+probability_B\n",
    "Question_2"
   ]
  },
  {
   "cell_type": "code",
   "execution_count": 14,
   "metadata": {},
   "outputs": [
    {
     "data": {
      "text/plain": [
       "0.12745098039215685"
      ]
     },
     "execution_count": 14,
     "metadata": {},
     "output_type": "execute_result"
    }
   ],
   "source": [
    "red = 26\n",
    "black = 26\n",
    "\n",
    "red_1 = 26/52\n",
    "black_1 = 26/51\n",
    "red_2 = 25/50\n",
    "\n",
    "Question_3 = red_1*black_1*red_2\n",
    "Question_3"
   ]
  },
  {
   "cell_type": "code",
   "execution_count": 25,
   "metadata": {},
   "outputs": [],
   "source": [
    "import math"
   ]
  },
  {
   "cell_type": "code",
   "execution_count": 28,
   "metadata": {},
   "outputs": [
    {
     "data": {
      "text/plain": [
       "2598960.0"
      ]
     },
     "execution_count": 28,
     "metadata": {},
     "output_type": "execute_result"
    }
   ],
   "source": [
    "# Combination problem - no need for order - nCr = n!/r!(n-r)!\n",
    "Question_4 = math.factorial(52)/(math.factorial(5)*math.factorial(47))\n",
    "Question_4"
   ]
  }
 ],
 "metadata": {
  "kernelspec": {
   "display_name": "Python 3",
   "language": "python",
   "name": "python3"
  },
  "language_info": {
   "codemirror_mode": {
    "name": "ipython",
    "version": 3
   },
   "file_extension": ".py",
   "mimetype": "text/x-python",
   "name": "python",
   "nbconvert_exporter": "python",
   "pygments_lexer": "ipython3",
   "version": "3.6.9"
  }
 },
 "nbformat": 4,
 "nbformat_minor": 2
}
