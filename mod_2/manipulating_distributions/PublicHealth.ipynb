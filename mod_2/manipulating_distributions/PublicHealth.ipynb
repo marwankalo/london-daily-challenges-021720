{
 "cells": [
  {
   "cell_type": "markdown",
   "metadata": {},
   "source": [
    "# Manipulating Distributions"
   ]
  },
  {
   "cell_type": "markdown",
   "metadata": {},
   "source": [
    "One of the most helpful skills that you will eventually develop as a data scientist is the ability to generate synthetic data in order to run simulations and create data visualisations that show what you think your data is going to look like before you actually expend the resources in order to be able to run the analysis. \n",
    "\n",
    "Getting to this point is still a bit of a ways away for us, but we can start today by taking baby steps forward.\n",
    "\n",
    "For today's **daily challenge** we're going to apply a bit of what we learned this week with Normal Distributions and have a bit of a throwback to the land of Data Viz with a topical challenge. \n",
    "\n",
    "Today we are asking you to try to re-create the \"Flattening the Curve\" visualisation that depicts the importance of taking precautionary measures to slow the spread of a virus or disease.\n",
    "\n",
    "Below is a great example of a simple data visualisation that tells a story with only a few ideas but is very important for public health understanding. \n",
    "\n",
    "* [Original Link Here](https://www.vox.com/2020/3/10/21171481/coronavirus-us-cases-quarantine-cancellation)\n",
    "\n",
    "![alt text](image.png \"Flattening the Curve\")"
   ]
  },
  {
   "cell_type": "markdown",
   "metadata": {},
   "source": [
    "Today we want you to re-create this chart using any combination of matplotlib or seaborn. At a minimum, you should create both distributions and have your axes labeled with a clear title. If you want to go further, you can try to annotate the chart with the lines and arrows provided and match the colors. \n",
    "\n",
    "To do this you need to...\n",
    "\n",
    "* Generate some synthetic data with numpy\n",
    "* Change the parameters of the distributions to approximate the correct shapes.\n",
    "* Plot both distributions on the same plot\n",
    "* Annotate the graph accordingly.\n",
    "\n",
    "Try to make your chart as close as you can to the one above so that it could be included in a publication!\n",
    "\n",
    "Best of luck! "
   ]
  },
  {
   "cell_type": "code",
   "execution_count": null,
   "metadata": {},
   "outputs": [],
   "source": []
  }
 ],
 "metadata": {
  "kernelspec": {
   "display_name": "Python 3",
   "language": "python",
   "name": "python3"
  },
  "language_info": {
   "codemirror_mode": {
    "name": "ipython",
    "version": 3
   },
   "file_extension": ".py",
   "mimetype": "text/x-python",
   "name": "python",
   "nbconvert_exporter": "python",
   "pygments_lexer": "ipython3",
   "version": "3.7.3"
  }
 },
 "nbformat": 4,
 "nbformat_minor": 2
}
