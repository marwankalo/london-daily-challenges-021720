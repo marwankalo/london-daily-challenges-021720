{
 "cells": [
  {
   "cell_type": "markdown",
   "metadata": {},
   "source": [
    "# Your Turn! \n",
    "\n",
    "Find the file `experiment_data_small.csv` in the current working directory and run a t-test on this data.\n",
    "\n",
    "* First report the p value of the test\n",
    "* Second, write a statement on what the p value means\n",
    "* Third, use the function from above to calculate the effect size\n",
    "* Fourth, write a paragraph reccomending if we should adopt the change made by the second AB test we have run!\n",
    "\n",
    "Be prepared to be assigned to a side where you advocate for adopting the new change or not adopting the new change!"
   ]
  },
  {
   "cell_type": "code",
   "execution_count": null,
   "metadata": {},
   "outputs": [],
   "source": []
  }
 ],
 "metadata": {
  "kernelspec": {
   "display_name": "Python 3",
   "language": "python",
   "name": "python3"
  },
  "language_info": {
   "codemirror_mode": {
    "name": "ipython",
    "version": 3
   },
   "file_extension": ".py",
   "mimetype": "text/x-python",
   "name": "python",
   "nbconvert_exporter": "python",
   "pygments_lexer": "ipython3",
   "version": "3.7.3"
  }
 },
 "nbformat": 4,
 "nbformat_minor": 2
}
